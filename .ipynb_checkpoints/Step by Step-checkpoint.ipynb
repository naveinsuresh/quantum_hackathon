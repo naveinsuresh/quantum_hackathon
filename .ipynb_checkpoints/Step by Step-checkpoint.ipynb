{
 "cells": [
  {
   "cell_type": "code",
   "execution_count": 53,
   "id": "28c8d5a3",
   "metadata": {},
   "outputs": [],
   "source": [
    "import matplotlib.pyplot as plt\n",
    "import numpy as np\n",
    "from qiskit import QuantumCircuit, Aer, transpile, assemble\n",
    "from qiskit.visualization import plot_histogram\n",
    "from math import gcd\n",
    "from numpy.random import randint\n",
    "import pandas as pd\n",
    "from fractions import Fraction\n",
    "from math import gcd # greatest common divisor\n",
    "\n",
    "register1 = 0\n",
    "register2 = 0\n",
    "a = 7\n"
   ]
  },
  {
   "cell_type": "code",
   "execution_count": 54,
   "id": "2e61ec0a",
   "metadata": {},
   "outputs": [],
   "source": [
    "def setAmtQubits(N):\n",
    "    T1 = N*N\n",
    "    t1 = bin(T1)\n",
    "    global register1 \n",
    "    register1 = int(len(t1)-2)\n",
    "    global register2\n",
    "    register2 = math.ceil(math.log2(N))\n"
   ]
  },
  {
   "cell_type": "code",
   "execution_count": 57,
   "id": "9b5bbc7f",
   "metadata": {},
   "outputs": [
    {
     "name": "stdout",
     "output_type": "stream",
     "text": [
      "31\n",
      "16\n"
     ]
    }
   ],
   "source": [
    "setAmtQubits(43621)\n",
    "\n",
    "print(register1)\n",
    "print(register2)"
   ]
  },
  {
   "cell_type": "code",
   "execution_count": 152,
   "id": "9561f274",
   "metadata": {},
   "outputs": [],
   "source": [
    "def a2jmodN(a, j, N):\n",
    "    \"\"\"Compute a^{2^j} (mod N) by repeated squaring\"\"\"\n",
    "    for i in range(j):\n",
    "        a = np.mod(a**2, N)\n",
    "    return a"
   ]
  },
  {
   "cell_type": "code",
   "execution_count": 153,
   "id": "08229900",
   "metadata": {},
   "outputs": [
    {
     "name": "stdout",
     "output_type": "stream",
     "text": [
      "1\n"
     ]
    }
   ],
   "source": [
    "print(a2jmodN(7,2,15))\n"
   ]
  },
  {
   "cell_type": "code",
   "execution_count": null,
   "id": "9b895dfb",
   "metadata": {},
   "outputs": [],
   "source": []
  }
 ],
 "metadata": {
  "kernelspec": {
   "display_name": "Python 3 (ipykernel)",
   "language": "python",
   "name": "python3"
  },
  "language_info": {
   "codemirror_mode": {
    "name": "ipython",
    "version": 3
   },
   "file_extension": ".py",
   "mimetype": "text/x-python",
   "name": "python",
   "nbconvert_exporter": "python",
   "pygments_lexer": "ipython3",
   "version": "3.10.8"
  }
 },
 "nbformat": 4,
 "nbformat_minor": 5
}
