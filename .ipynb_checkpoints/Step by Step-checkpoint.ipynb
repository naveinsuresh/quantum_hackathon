{
 "cells": [
  {
   "cell_type": "code",
   "execution_count": 53,
   "id": "4f214ed1",
   "metadata": {},
   "outputs": [],
   "source": [
    "import matplotlib.pyplot as plt\n",
    "import numpy as np\n",
    "from qiskit import QuantumCircuit, Aer, transpile, assemble\n",
    "from qiskit.visualization import plot_histogram\n",
    "from math import gcd\n",
    "from numpy.random import randint\n",
    "import pandas as pd\n",
    "from fractions import Fraction\n",
    "from math import gcd # greatest common divisor\n",
    "\n",
    "register1 = 0\n",
    "register2 = 0\n",
    "a = 7\n"
   ]
  },
  {
   "cell_type": "code",
   "execution_count": 54,
   "id": "c1c20c51",
   "metadata": {},
   "outputs": [],
   "source": [
    "def setAmtQubits(N):\n",
    "    T1 = N*N\n",
    "    t1 = bin(T1)\n",
    "    global register1 \n",
    "    register1 = int(len(t1)-2)\n",
    "    global register2\n",
    "    register2 = math.ceil(math.log2(N))\n"
   ]
  },
  {
   "cell_type": "code",
   "execution_count": 56,
   "id": "c7391811",
   "metadata": {},
   "outputs": [
    {
     "name": "stdout",
     "output_type": "stream",
     "text": [
      "9\n",
      "5\n"
     ]
    }
   ],
   "source": [
    "setAmtQubits(21)\n",
    "\n",
    "print(register1)\n",
    "print(register2)"
   ]
  },
  {
   "cell_type": "code",
   "execution_count": null,
   "id": "ee2a6c83",
   "metadata": {},
   "outputs": [],
   "source": []
  }
 ],
 "metadata": {
  "kernelspec": {
   "display_name": "Python 3 (ipykernel)",
   "language": "python",
   "name": "python3"
  },
  "language_info": {
   "codemirror_mode": {
    "name": "ipython",
    "version": 3
   },
   "file_extension": ".py",
   "mimetype": "text/x-python",
   "name": "python",
   "nbconvert_exporter": "python",
   "pygments_lexer": "ipython3",
   "version": "3.10.8"
  }
 },
 "nbformat": 4,
 "nbformat_minor": 5
}
