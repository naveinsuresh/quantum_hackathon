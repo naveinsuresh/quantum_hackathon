{
 "cells": [
  {
   "cell_type": "code",
   "execution_count": 176,
   "id": "a7b0130b",
   "metadata": {},
   "outputs": [],
   "source": [
    "import matplotlib.pyplot as plt\n",
    "import numpy as np\n",
    "from qiskit import QuantumCircuit, Aer, transpile, assemble\n",
    "from qiskit.visualization import plot_histogram\n",
    "from math import gcd\n",
    "from numpy.random import randint\n",
    "import pandas as pd\n",
    "from fractions import Fraction\n",
    "import math\n",
    "from math import gcd # greatest common divisor\n",
    "import random\n",
    "\n",
    "\n",
    "register1 = 0\n",
    "register2 = 0\n",
    "a = 2\n",
    "N = 55\n",
    "\n",
    "#https://blender.stackexchange.com/questions/84980/print-a-timer-in-python-to-see-how-long-to-run-a-script \n",
    "import time\n",
    "import random\n",
    "\n",
    "then = time.time() #Time before the operations start\n"
   ]
  },
  {
   "cell_type": "code",
   "execution_count": 177,
   "id": "2f57b166",
   "metadata": {},
   "outputs": [],
   "source": [
    "def setAmtQubits(N):\n",
    "    T1 = N**2\n",
    "    t1 = bin(T1)\n",
    "    global register1 \n",
    "    register1 = int(len(t1)-2)\n",
    "    global register2\n",
    "    register2 = math.ceil(math.log2(N))\n",
    "    \n",
    "def setAmtQubitsBigger(N):\n",
    "    T1 = 2*(N**2)-1\n",
    "    t1 = bin(T1)\n",
    "    global register1 \n",
    "    register1 = int(len(t1)-2)\n",
    "    global register2\n",
    "    register2 = math.ceil(math.log2(N))\n",
    "\n",
    "def setAmtQubitsSmaller(N):\n",
    "    T1 = 2*(N**2)-1\n",
    "    t1 = bin(T1)\n",
    "    global register1 \n",
    "    register1 = int(len(t1)-2) - 2\n",
    "    global register2\n",
    "    register2 = math.ceil(math.log2(N)) - 2\n",
    "\n",
    "    "
   ]
  },
  {
   "cell_type": "code",
   "execution_count": 178,
   "id": "98870be3",
   "metadata": {},
   "outputs": [
    {
     "name": "stdout",
     "output_type": "stream",
     "text": [
      "11\n",
      "4\n"
     ]
    }
   ],
   "source": [
    "setAmtQubits(N)\n",
    "setAmtQubitsSmaller(N)\n",
    "setAmtQubitsBigger(N)\n",
    "setAmtQubits(N)\n",
    "setAmtQubitsSmaller(N)\n",
    "\n",
    "\n",
    "\n",
    "\n",
    "print(register1)\n",
    "print(register2)"
   ]
  },
  {
   "cell_type": "code",
   "execution_count": 179,
   "id": "c688d255",
   "metadata": {},
   "outputs": [],
   "source": [
    "def qpe_amod(a):\n",
    "    n_count = register1\n",
    "    aux_count = register2\n",
    "    qc = QuantumCircuit(aux_count+n_count, n_count)\n",
    "    \n",
    "    for q in range(n_count):\n",
    "        qc.h(q)     # Initialize counting qubits in state |+>\n",
    "    qc.x(aux_count-1+n_count) # And auxiliary register in state |1>\n",
    "    \n",
    "    for q in range(n_count): # Do controlled-U operations\n",
    "        qc.append(c_amod(a, 2**q,aux_count), \n",
    "                 [q] + [i+n_count for i in range(aux_count)])\n",
    "        \n",
    "    qc.append(qft_dagger(n_count), range(n_count)) # Do inverse-QFT\n",
    "    \n",
    "    qc.measure(range(n_count), range(n_count))\n",
    "    # Simulate Results\n",
    "    aer_sim = Aer.get_backend('aer_simulator')\n",
    "    # Setting memory=True below allows us to see a list of each sequential reading\n",
    "    t_qc = transpile(qc, aer_sim)\n",
    "    result = aer_sim.run(t_qc, shots=1, memory=True).result()\n",
    "    readings = result.get_memory()\n",
    "    print(\"Register Reading: \" + readings[0])\n",
    "    phase = int(readings[0],2)/(2**n_count)\n",
    "    print(\"Corresponding Phase: %f\" % phase)\n",
    "    return [phase,qc]"
   ]
  },
  {
   "cell_type": "code",
   "execution_count": 180,
   "id": "bc873a56",
   "metadata": {},
   "outputs": [],
   "source": [
    "def c_amod(a, power,aux_count):\n",
    "    U = QuantumCircuit(aux_count)        \n",
    "    for iteration in range(power):\n",
    "        i = 0\n",
    "        j = 1\n",
    "        while i < (aux_count - 1):\n",
    "            U.swap(i,j)\n",
    "            i = i + 1\n",
    "            j = j + 1\n",
    "        \n",
    "    U = U.to_gate()\n",
    "    U.name = \"%i^%i mod %i\" % (a, power,N)\n",
    "    c_U = U.control()\n",
    "    return c_U\n"
   ]
  },
  {
   "cell_type": "code",
   "execution_count": 181,
   "id": "f4f41f59",
   "metadata": {},
   "outputs": [],
   "source": [
    "def qft_dagger(n):\n",
    "    \"\"\"n-qubit QFTdagger the first n qubits in circ\"\"\"\n",
    "    qc = QuantumCircuit(n)\n",
    "    # Don't forget the Swaps!\n",
    "    for qubit in range(n//2):\n",
    "        qc.swap(qubit, n-qubit-1)\n",
    "    for j in range(n):\n",
    "        for m in range(j):\n",
    "            qc.cp(-np.pi/float(2**(j-m)), m, j)\n",
    "        qc.h(j)\n",
    "    qc.name = \"QFT†\"\n",
    "    return qc"
   ]
  },
  {
   "cell_type": "code",
   "execution_count": 182,
   "id": "e3251c8d",
   "metadata": {},
   "outputs": [],
   "source": [
    "#qc = qpe_amod(a)[1] # Phase = s/r\n",
    "#(qc.draw(fold=-1))\n"
   ]
  },
  {
   "cell_type": "code",
   "execution_count": 183,
   "id": "160913f6",
   "metadata": {},
   "outputs": [
    {
     "name": "stdout",
     "output_type": "stream",
     "text": [
      "Register Reading: 00000000000\n",
      "Corresponding Phase: 0.000000\n",
      "1\n",
      "[55, 1]\n",
      "\n",
      "Attempt 1:\n",
      "Register Reading: 10000000000\n",
      "Corresponding Phase: 0.500000\n",
      "Result: r = 2\n",
      "Guessed Factors: 1 and 1\n",
      "\n",
      "Attempt 2:\n",
      "Register Reading: 00000000000\n",
      "Corresponding Phase: 0.000000\n",
      "Result: r = 1\n",
      "\n",
      "Attempt 3:\n",
      "Register Reading: 10000000000\n",
      "Corresponding Phase: 0.500000\n",
      "Result: r = 2\n",
      "Guessed Factors: 1 and 1\n",
      "\n",
      "Attempt 4:\n",
      "Register Reading: 00000000000\n",
      "Corresponding Phase: 0.000000\n",
      "Result: r = 1\n",
      "\n",
      "Attempt 5:\n",
      "Register Reading: 00000000000\n",
      "Corresponding Phase: 0.000000\n",
      "Result: r = 1\n",
      "\n",
      "Attempt 6:\n",
      "Register Reading: 10000000000\n",
      "Corresponding Phase: 0.500000\n",
      "Result: r = 2\n",
      "Guessed Factors: 1 and 1\n",
      "\n",
      "Attempt 7:\n",
      "Register Reading: 11000000000\n",
      "Corresponding Phase: 0.750000\n",
      "Result: r = 4\n",
      "Guessed Factors: 1 and 5\n",
      "*** Non-trivial factor found: 5 ***\n",
      "It took:  250.59167194366455  seconds\n"
     ]
    }
   ],
   "source": [
    "phase = qpe_amod(a)[0] # Phase = s/r\n",
    "\n",
    "Fraction(phase).limit_denominator(15) \n",
    "\n",
    "frac = Fraction(phase).limit_denominator(15)\n",
    "s, r = frac.numerator, frac.denominator\n",
    "print(r)\n",
    "\n",
    "\n",
    "guesses = [gcd(a**(r//2)-1, N), gcd(a**(r//2)+1, N)]\n",
    "print(guesses)\n",
    "\n",
    "a = 2\n",
    "factor_found = False\n",
    "attempt = 0\n",
    "while not factor_found:\n",
    "    attempt += 1\n",
    "    print(\"\\nAttempt %i:\" % attempt)\n",
    "    phase = qpe_amod(a)[0] # Phase = s/r\n",
    "    frac = Fraction(phase).limit_denominator(N) # Denominator should (hopefully!) tell us r\n",
    "    r = frac.denominator\n",
    "    print(\"Result: r = %i\" % r)\n",
    "    if phase != 0:\n",
    "        # Guesses for factors are gcd(x^{r/2} ±1 , 15)\n",
    "        guesses = [gcd(a**(r//2)-1, N), gcd(a**(r//2)+1, N)]\n",
    "        print(\"Guessed Factors: %i and %i\" % (guesses[0], guesses[1]))\n",
    "        for guess in guesses:\n",
    "            if guess not in [1,N] and (N % guess) == 0: # Check to see if guess is a factor\n",
    "                print(\"*** Non-trivial factor found: %i ***\" % guess)\n",
    "                factor_found = True\n",
    "                \n",
    "now = time.time() #Time after it finished\n",
    "\n",
    "print(\"It took: \", now-then, \" seconds\")"
   ]
  },
  {
   "cell_type": "code",
   "execution_count": 59,
   "id": "02ec7091",
   "metadata": {},
   "outputs": [
    {
     "name": "stdout",
     "output_type": "stream",
     "text": [
      "12\n"
     ]
    },
    {
     "data": {
      "image/png": "[encoded data removed]",
      "text/plain": [
       "<Figure size 640x480 with 1 Axes>"
      ]
     },
     "metadata": {},
     "output_type": "display_data"
    }
   ],
   "source": [
    "N = 35\n",
    "a = 2\n",
    "\n",
    "# Calculate the plotting data\n",
    "xvals = np.arange(N)\n",
    "yvals = [np.mod(a**x, N) for x in xvals]\n",
    "\n",
    "# Use matplotlib to display it nicely\n",
    "fig, ax = plt.subplots()\n",
    "ax.plot(xvals, yvals, linewidth=1, linestyle='dotted', marker='x')\n",
    "ax.set(xlabel='$x$', ylabel='$%i^x$ mod $%i$' % (a, N),\n",
    "       title=\"Example of Periodic Function in Shor's Algorithm\")\n",
    "try: # plot r on the graph\n",
    "    r = yvals[1:].index(1) +1 \n",
    "    plt.annotate('', xy=(0,1), xytext=(r,1), arrowprops=dict(arrowstyle='<->'))\n",
    "    plt.annotate('$r=%i$' % r, xy=(r/3,1.5))\n",
    "    print(r)\n",
    "except ValueError:\n",
    "    print('Could not find period, check a < N and have no common factors.')\n",
    "    print(r)"
   ]
  },
  {
   "cell_type": "code",
   "execution_count": 60,
   "id": "7bc6fa6d",
   "metadata": {},
   "outputs": [
    {
     "data": {
      "text/html": [
       "<h3>Version Information</h3><table><tr><th>Qiskit Software</th><th>Version</th></tr><tr><td><code>qiskit-terra</code></td><td>0.22.2</td></tr><tr><td><code>qiskit-aer</code></td><td>0.11.1</td></tr><tr><td><code>qiskit-ibmq-provider</code></td><td>0.19.2</td></tr><tr><td><code>qiskit</code></td><td>0.39.2</td></tr><tr><th>System information</th></tr><tr><td>Python version</td><td>3.10.8</td></tr><tr><td>Python compiler</td><td>Clang 14.0.0 (clang-1400.0.29.102)</td></tr><tr><td>Python build</td><td>main, Oct 13 2022 09:48:40</td></tr><tr><td>OS</td><td>Darwin</td></tr><tr><td>CPUs</td><td>8</td></tr><tr><td>Memory (Gb)</td><td>8.0</td></tr><tr><td colspan='2'>Wed Nov 09 01:57:35 2022 PST</td></tr></table>"
      ],
      "text/plain": [
       "<IPython.core.display.HTML object>"
      ]
     },
     "metadata": {},
     "output_type": "display_data"
    }
   ],
   "source": [
    "import qiskit.tools.jupyter\n",
    "%qiskit_version_table\n"
   ]
  },
  {
   "cell_type": "code",
   "execution_count": null,
   "id": "c55d99d3",
   "metadata": {},
   "outputs": [],
   "source": []
  }
 ],
 "metadata": {
  "kernelspec": {
   "display_name": "Python 3 (ipykernel)",
   "language": "python",
   "name": "python3"
  },
  "language_info": {
   "codemirror_mode": {
    "name": "ipython",
    "version": 3
   },
   "file_extension": ".py",
   "mimetype": "text/x-python",
   "name": "python",
   "nbconvert_exporter": "python",
   "pygments_lexer": "ipython3",
   "version": "3.10.8"
  }
 },
 "nbformat": 4,
 "nbformat_minor": 5
}
