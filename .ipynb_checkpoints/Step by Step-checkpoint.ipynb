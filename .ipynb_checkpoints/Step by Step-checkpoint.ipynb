{
 "cells": [
  {
   "cell_type": "code",
   "execution_count": 8,
   "id": "2635f552",
   "metadata": {},
   "outputs": [],
   "source": [
    "import matplotlib.pyplot as plt\n",
    "import numpy as np\n",
    "from qiskit import QuantumCircuit, Aer, transpile, assemble\n",
    "from qiskit.visualization import plot_histogram\n",
    "from math import gcd\n",
    "from numpy.random import randint\n",
    "import pandas as pd\n",
    "from fractions import Fraction\n",
    "import math\n",
    "from math import gcd # greatest common divisor\n",
    "\n",
    "register1 = 0\n",
    "register2 = 0\n",
    "a = 2\n"
   ]
  },
  {
   "cell_type": "code",
   "execution_count": 9,
   "id": "60724677",
   "metadata": {},
   "outputs": [],
   "source": [
    "def setAmtQubits(N):\n",
    "    T1 = N*N\n",
    "    t1 = bin(T1)\n",
    "    global register1 \n",
    "    register1 = int(len(t1)-2)\n",
    "    global register2\n",
    "    register2 = math.ceil(math.log2(N))\n"
   ]
  },
  {
   "cell_type": "code",
   "execution_count": 10,
   "id": "933a9a05",
   "metadata": {},
   "outputs": [
    {
     "name": "stdout",
     "output_type": "stream",
     "text": [
      "31\n",
      "16\n"
     ]
    }
   ],
   "source": [
    "setAmtQubits(43621)\n",
    "\n",
    "print(register1)\n",
    "print(register2)"
   ]
  },
  {
   "cell_type": "code",
   "execution_count": 11,
   "id": "c0537b8e",
   "metadata": {},
   "outputs": [],
   "source": [
    "def qpe_amod(a):\n",
    "    n_count = register1\n",
    "    aux_count = register2\n",
    "    qc = QuantumCircuit(aux_count+n_count, n_count)\n",
    "    \n",
    "    for q in range(n_count):\n",
    "        qc.h(q)     # Initialize counting qubits in state |+>\n",
    "    qc.x(aux_count-1+n_count) # And auxiliary register in state |1>\n",
    "    \n",
    "    for q in range(n_count): # Do controlled-U operations\n",
    "        qc.append(c_amod15(a, 2**q,aux_count), \n",
    "                 [q] + [i+n_count for i in range(aux_count)])\n",
    "        \n",
    "    qc.append(qft_dagger(n_count), range(n_count)) # Do inverse-QFT\n",
    "    \n",
    "    qc.measure(range(n_count), range(n_count))\n",
    "    (qc.draw(fold=-1))\n",
    "    # Simulate Results\n",
    "    aer_sim = Aer.get_backend('aer_simulator')\n",
    "    # Setting memory=True below allows us to see a list of each sequential reading\n",
    "    t_qc = transpile(qc, aer_sim)\n",
    "    result = aer_sim.run(t_qc, shots=1, memory=True).result()\n",
    "    readings = result.get_memory()\n",
    "    print(\"Register Reading: \" + readings[0])\n",
    "    phase = int(readings[0],2)/(2**n_count)\n",
    "    print(\"Corresponding Phase: %f\" % phase)\n",
    "    return phase"
   ]
  },
  {
   "cell_type": "code",
   "execution_count": null,
   "id": "2f974485",
   "metadata": {},
   "outputs": [],
   "source": [
    "def c_amod(a, power,aux_count):\n",
    "    U = QuantumCircuit(aux_count)        \n",
    "    for iteration in range(power):\n",
    "        if a in [2,13]:\n",
    "            U.swap(0,1)\n",
    "            U.swap(1,2)\n",
    "            U.swap(2,3)\n",
    "        if a in [7,8]:\n",
    "            U.swap(2,3)\n",
    "            U.swap(1,2)\n",
    "            U.swap(0,1)\n",
    "        if a in [4, 11]:\n",
    "            U.swap(1,3)\n",
    "            U.swap(0,2)\n",
    "        if a in [7,11,13]:\n",
    "            for q in range(4):\n",
    "                U.x(q)\n",
    "    U = U.to_gate()\n",
    "    U.name = \"%i^%i mod 15\" % (a, power)\n",
    "    c_U = U.control()\n",
    "    return c_U\n"
   ]
  },
  {
   "cell_type": "code",
   "execution_count": null,
   "id": "8b3214de",
   "metadata": {},
   "outputs": [],
   "source": []
  },
  {
   "cell_type": "code",
   "execution_count": null,
   "id": "7f560493",
   "metadata": {},
   "outputs": [],
   "source": []
  }
 ],
 "metadata": {
  "kernelspec": {
   "display_name": "Python 3 (ipykernel)",
   "language": "python",
   "name": "python3"
  },
  "language_info": {
   "codemirror_mode": {
    "name": "ipython",
    "version": 3
   },
   "file_extension": ".py",
   "mimetype": "text/x-python",
   "name": "python",
   "nbconvert_exporter": "python",
   "pygments_lexer": "ipython3",
   "version": "3.10.8"
  }
 },
 "nbformat": 4,
 "nbformat_minor": 5
}
