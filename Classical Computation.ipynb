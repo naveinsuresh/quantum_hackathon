{
 "cells": [
  {
   "cell_type": "code",
   "execution_count": 9,
   "id": "3ccb9223",
   "metadata": {},
   "outputs": [
    {
     "name": "stdout",
     "output_type": "stream",
     "text": [
      "PublicKey(43621, 65537)\n",
      "43621\n",
      "PrivateKey(43621, 65537, 14273, 241, 181)\n"
     ]
    }
   ],
   "source": [
    "import rsa\n",
    "#https://www.rfc-editor.org/rfc/rfc2313.html\n",
    "\n",
    "(pubkey, privkey) = rsa.newkeys(16)\n",
    "\n",
    "\"\"\"\n",
    " RSAPublicKey ::= SEQUENCE {\n",
    " modulus INTEGER, -- n\n",
    " publicExponent INTEGER -- e }\n",
    "\"\"\"\n",
    "print(pubkey)\n",
    "print(pubkey.n)\n",
    "\"\"\"\n",
    " RSAPrivateKey ::= SEQUENCE {\n",
    " modulus INTEGER, -- n\n",
    " publicExponent INTEGER, -- e\n",
    " privateExponent INTEGER, -- d\n",
    " prime1 INTEGER, -- p\n",
    " prime2 INTEGER, -- q}\n",
    "\"\"\"\n",
    "print(privkey)"
   ]
  },
  {
   "cell_type": "code",
   "execution_count": 12,
   "id": "132967bc",
   "metadata": {},
   "outputs": [
    {
     "name": "stdout",
     "output_type": "stream",
     "text": [
      "181\n",
      "241.0\n",
      "It took:  0.0009179115295410156  seconds\n"
     ]
    }
   ],
   "source": [
    "#https://www.geeksforgeeks.org/print-all-prime-factors-of-a-given-number/\n",
    "# Python program to print prime factors\n",
    "#Time Complexity: O(sqrt(n))\n",
    "\n",
    "\n",
    "#https://blender.stackexchange.com/questions/84980/print-a-timer-in-python-to-see-how-long-to-run-a-script \n",
    "import time\n",
    "import random\n",
    "\n",
    "then = time.time() #Time before the operations start\n",
    "\n",
    "        \n",
    "import math\n",
    " \n",
    "# A function to print all prime factors of\n",
    "# a given number n\n",
    "def primeFactors(n):\n",
    "     \n",
    "    # Print the number of two's that divide n\n",
    "    while n % 2 == 0:\n",
    "        print(2),\n",
    "        n = n / 2\n",
    "         \n",
    "    # n must be odd at this point\n",
    "    # so a skip of 2 ( i = i + 2) can be used\n",
    "    for i in range(3,int(math.sqrt(n))+1,2):\n",
    "         \n",
    "        # while i divides n , print i and divide n\n",
    "        while n % i== 0:\n",
    "            print(i),\n",
    "            n = n / i\n",
    "             \n",
    "    # Condition if n is a prime\n",
    "    # number greater than 2\n",
    "    if n > 2:\n",
    "        print(n)\n",
    "         \n",
    "# Driver Program to test above function\n",
    " \n",
    "n = pubkey.n\n",
    "primeFactors(n)\n",
    "\n",
    "\n",
    " \n",
    "# This code is contributed by Harshit Agrawal\n",
    "\n",
    "#DO YOUR OPERATIONS HERE\n",
    "\n",
    "now = time.time() #Time after it finished\n",
    "\n",
    "print(\"It took: \", now-then, \" seconds\")\n"
   ]
  },
  {
   "cell_type": "code",
   "execution_count": 11,
   "id": "97cc44f0",
   "metadata": {},
   "outputs": [
    {
     "name": "stdout",
     "output_type": "stream",
     "text": [
      "x = 42174.0\n",
      "241\n",
      "181\n",
      "It took:  2.2595279216766357  seconds\n"
     ]
    }
   ],
   "source": [
    "# Shor's algorithm, classical computer\n",
    "#copied code:\n",
    "#https://www.youtube.com/watch?v=dscRoTBPeso&ab_channel=Qiskit\n",
    "#\n",
    "\n",
    "\n",
    "import time\n",
    "import random\n",
    "\n",
    "then = time.time() #Time before the operations start\n",
    "\n",
    "N = pubkey.n\n",
    "a = 2\n",
    "import math\n",
    "math.gcd(a,N)\n",
    "\n",
    "z = list(range(N))\n",
    "y = [a**z0 % N for z0 in z]\n",
    "\n",
    "r = z[y[1:].index(1)+1]\n",
    "\n",
    "if r % 2 == 0:\n",
    "    x = (a**(r/2.)) % N\n",
    "    print(f'x = {x}')\n",
    "    if ((x + 1) % N) != 0:\n",
    "        print(math.gcd((int(x)+1), N))\n",
    "        print(math.gcd((int(x)-1), N))\n",
    "    else:\n",
    "        print(\"x + 1 is 0 (mod N)\")\n",
    "else:\n",
    "    print(f'r = {r} is odd')\n",
    "    \n",
    "    \n",
    "now = time.time() #Time after it finished\n",
    "\n",
    "print(\"It took: \", now-then, \" seconds\")\n",
    "        "
   ]
  },
  {
   "cell_type": "code",
   "execution_count": null,
   "id": "8cab1a1d",
   "metadata": {},
   "outputs": [],
   "source": []
  }
 ],
 "metadata": {
  "kernelspec": {
   "display_name": "Python 3 (ipykernel)",
   "language": "python",
   "name": "python3"
  },
  "language_info": {
   "codemirror_mode": {
    "name": "ipython",
    "version": 3
   },
   "file_extension": ".py",
   "mimetype": "text/x-python",
   "name": "python",
   "nbconvert_exporter": "python",
   "pygments_lexer": "ipython3",
   "version": "3.10.8"
  }
 },
 "nbformat": 4,
 "nbformat_minor": 5
}
